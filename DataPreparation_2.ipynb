{
 "cells": [
  {
   "cell_type": "code",
   "execution_count": 165,
   "id": "e15541d5-a533-4044-8902-640124894bdb",
   "metadata": {},
   "outputs": [],
   "source": [
    "#import libraries\n",
    "import pandas as pd #pandas class\n",
    "import numpy as np\n",
    "import traceback\n",
    "import os\n",
    "import copy\n",
    "import math\n",
    "import statistics\n",
    "import matplotlib.pyplot as plt\n",
    "import seaborn as sns\n",
    "from sklearn.impute import KNNImputer\n",
    "import category_encoders as ce\n",
    "import time\n",
    "from scipy.stats import chi2_contingency\n",
    "from scipy.stats import boxcox\n",
    "from sklearn.ensemble import BaggingClassifier\n",
    "from sklearn.model_selection import train_test_split\n",
    "from sklearn.preprocessing import StandardScaler\n",
    "import logging\n",
    "plt.style.use('_mpl-gallery')"
   ]
  },
  {
   "cell_type": "code",
   "execution_count": 6,
   "id": "6dcc37d8-8cd6-4a82-b848-11e92bcf1ead",
   "metadata": {},
   "outputs": [],
   "source": [
    "try:\n",
    "        \n",
    "        filepath=f\"C:\\\\Custom\\\\Semester 2\\\\CA683 DADM\\\\Home Loan Approval System\\\\Cleaning_2.csv\"\n",
    "        df=pd.read_csv(filepath)\n",
    "        df.drop(columns='Unnamed: 0',inplace=True)\n",
    "        #take backup of file\n",
    "        backup=copy.deepcopy(df)\n",
    "        \n",
    "except Exception as ex:\n",
    "    print(f'Following exception:\\n {ex}')\n",
    "    traceback.print_exc()"
   ]
  },
  {
   "cell_type": "code",
   "execution_count": 10,
   "id": "9461cae6-9e85-401d-9ea2-4377fd0eff1a",
   "metadata": {},
   "outputs": [],
   "source": [
    "def box(column):\n",
    "    '''A shortcut to generate box plot of columns.'''\n",
    "    sns.set(rc={'figure.figsize':(5.1,3.27)})\n",
    "    sns.boxplot(y=df[column])\n",
    "    \n",
    "def hist(column,bins='auto'):\n",
    "    '''A shortcut to generate historgram of columns.'''\n",
    "    sns.set(rc={'figure.figsize':(7.7,3.27)})\n",
    "    sns.histplot(data=df,x=df[column])"
   ]
  },
  {
   "cell_type": "code",
   "execution_count": 20,
   "id": "727dc98b-1637-4b03-aaaa-2dd171343b0e",
   "metadata": {},
   "outputs": [],
   "source": [
    "'''log transformation for continous predictor.'''\n",
    "\n",
    "def box_log(column):\n",
    "    '''A shortcut to generate box plot of columns.'''\n",
    "    sns.set(rc={'figure.figsize':(5.1,3.27)})\n",
    "    sns.boxplot(y=np.log(df[column]))\n",
    "def hist_log(column,bins='auto'):\n",
    "    '''A shortcut to generate historgram of columns.'''\n",
    "    sns.set(rc={'figure.figsize':(7.7,3.27)})\n",
    "    sns.histplot(data=df,x=np.log(df[column]))\n",
    "    "
   ]
  },
  {
   "cell_type": "code",
   "execution_count": 28,
   "id": "4d97d72b-a2bf-48b1-9f55-3f820daad15a",
   "metadata": {},
   "outputs": [],
   "source": [
    "'''Box-cox transformation for continous predictor.'''\n",
    "\n",
    "def box_bcox(column):\n",
    "    '''A shortcut to generate box plot of columns.'''\n",
    "    x,_=boxcox(df[column])\n",
    "    sns.set(rc={'figure.figsize':(5.1,3.27)})\n",
    "    sns.boxplot(y=x)\n",
    "def hist_bcox(column,bins='auto'):\n",
    "    '''A shortcut to generate historgram of columns.'''\n",
    "    x,_=boxcox(df[column])\n",
    "    sns.set(rc={'figure.figsize':(7.7,3.27)})\n",
    "    sns.histplot(x=x)\n",
    "    "
   ]
  },
  {
   "cell_type": "code",
   "execution_count": 43,
   "id": "f83473ef-ea0f-4559-a5af-dd3bb9e3caa1",
   "metadata": {},
   "outputs": [
    {
     "name": "stdout",
     "output_type": "stream",
     "text": [
      "Enter exact column name (please copy and paste from your dataframe):\n",
      " AMT_CREDIT\n"
     ]
    },
    {
     "name": "stdout",
     "output_type": "stream",
     "text": [
      "\n",
      "Found the column.\n",
      "\n",
      "\n",
      "Please select an appropriate option for your transformation and plot type\n",
      "Option 1: Simple box plot\n",
      "Option 2: Simple histogram\n",
      "Option 3: Log transformed box plot\n",
      "Option 4: Log transformed histogram\n",
      "Option 5: BoxCox transformed box plot\n",
      "Option 6: BoxCox transformed histogram plot\n",
      "\n"
     ]
    },
    {
     "name": "stdout",
     "output_type": "stream",
     "text": [
      "Your choice 3\n"
     ]
    },
    {
     "data": {
      "image/png": "[encoded data removed]",
      "text/plain": [
       "<Figure size 510x327 with 1 Axes>"
      ]
     },
     "metadata": {},
     "output_type": "display_data"
    }
   ],
   "source": [
    "def show():\n",
    "    '''This function is an api to automate the task of Data Transformation.'''\n",
    "    \n",
    "    count=0\n",
    "    while True:\n",
    "        \n",
    "        column=input('Enter exact column name (please copy and paste from your dataframe):\\n')\n",
    "    \n",
    "        if column in list(df.columns):\n",
    "            print('\\nFound the column.\\n')\n",
    "            \n",
    "            print('\\nPlease select an appropriate option for your transformation and plot type')\n",
    "            print('Option 1: Simple box plot\\nOption 2: Simple histogram\\nOption 3: Log transformed box plot\\nOption 4: Log transformed histogram\\nOption 5: BoxCox transformed box plot\\nOption 6: BoxCox transformed histogram plot\\n')\n",
    "            plot_type=input('Your choice')\n",
    "            \n",
    "            if plot_type==str(1):\n",
    "                box(column)\n",
    "            elif plot_type==str(2):\n",
    "                hist(column)\n",
    "            elif plot_type==str(3):\n",
    "                box_log(column)\n",
    "            elif plot_type==str(4):\n",
    "                hist_log(column)\n",
    "            elif plot_type==str(5):\n",
    "                box_bcox(column)\n",
    "            elif plot_type==str(6):\n",
    "                hist_bcox(column)\n",
    "            else:\n",
    "                print('Poor Choice')\n",
    "            break\n",
    "        else:\n",
    "            count+=1\n",
    "            if count>3: \n",
    "                print('Incorrect column name.')\n",
    "                print('Aborting the program.')\n",
    "                break\n",
    "            else:\n",
    "                print('Try again!')\n",
    "\n",
    "show()"
   ]
  },
  {
   "cell_type": "code",
   "execution_count": 88,
   "id": "049ca3ed-696e-4900-a768-c370a7fcc9d2",
   "metadata": {},
   "outputs": [
    {
     "name": "stdout",
     "output_type": "stream",
     "text": [
      "Enter exact column name (please copy and paste from your dataframe):\n",
      " AMT_INCOME_TOTAL\n"
     ]
    },
    {
     "name": "stdout",
     "output_type": "stream",
     "text": [
      "\n",
      "Found the column.\n",
      "\n",
      "\n",
      "Please select an appropriate option for your transformation and plot type\n",
      "Option 1: Simple box plot\n",
      "Option 2: Simple histogram\n",
      "Option 3: Log transformed box plot\n",
      "Option 4: Log transformed histogram\n",
      "Option 5: BoxCox transformed box plot\n",
      "Option 6: BoxCox transformed histogram plot\n",
      "\n"
     ]
    },
    {
     "name": "stdout",
     "output_type": "stream",
     "text": [
      "Your choice 6\n"
     ]
    },
    {
     "data": {
      "image/png": "[encoded data removed]",
      "text/plain": [
       "<Figure size 770x327 with 1 Axes>"
      ]
     },
     "metadata": {},
     "output_type": "display_data"
    }
   ],
   "source": [
    "show()"
   ]
  },
  {
   "cell_type": "code",
   "execution_count": 101,
   "id": "26416782-b727-4e09-ad33-ed88e4db54fb",
   "metadata": {},
   "outputs": [],
   "source": [
    "'''There are two columns 'AMT_CREDIT', 'AMT_ANNUITY' for which we will perform log transformation and for column 'AMT_INCOME_TOTAL' \n",
    "boxcox transfromation will be used. These transformation will give us close to normal distribution.\n",
    "'''\n",
    "\n",
    "df['AMT_INCOME_TOTAL'],_=boxcox(df['AMT_INCOME_TOTAL'])\n",
    "df['AMT_CREDIT']=np.log(df['AMT_CREDIT'])\n",
    "df['AMT_ANNUITY']=np.log(df['AMT_ANNUITY'])"
   ]
  },
  {
   "cell_type": "code",
   "execution_count": 105,
   "id": "4d73e3dc-859c-4b81-8b73-1667af34c1bc",
   "metadata": {},
   "outputs": [],
   "source": [
    "'''For our analysis, we will also transform the columns 'DAYS_BIRTH','DAYS_EMPLOYED','DAYS_REGISTRATION','DAYS_ID_PUBLISH',\n",
    "    'DAYS_LAST_PHONE_CHANGE' to positive columns.\n",
    "'''\n",
    "\n",
    "#columns DAYS_BIRTH, DAYS_REGISTRATION, DAYS_ID_PUBLISH, DAYS_LAST_PHONE_CHANGE has only negative values so easy sign transformation.\n",
    "df['DAYS_LAST_PHONE_CHANGE']=df['DAYS_LAST_PHONE_CHANGE']*-1\n",
    "df['DAYS_BIRTH']=df['DAYS_BIRTH']*-1\n",
    "df['DAYS_ID_PUBLISH']=df['DAYS_ID_PUBLISH']*-1\n",
    "df['DAYS_REGISTRATION']=df['DAYS_REGISTRATION']*-1\n",
    "\n",
    "\n",
    "#for column DAYS_EMPLOYED has both negative and positive values, for which we'll create a new feature DAYS_UNEMPLOYED to move the \n",
    "#negative values.\n",
    "df['DAYS_UNEMPLOYED']=df['DAYS_EMPLOYED']\n",
    "\n",
    "#column where day employed is negative turned to zero.\n",
    "df.loc[df['DAYS_EMPLOYED']<0,'DAYS_EMPLOYED']=0\n",
    "\n",
    "#column where days unemployed is positive turned to zero\n",
    "df.loc[df['DAYS_UNEMPLOYED']>0,'DAYS_UNEMPLOYED']=0\n",
    "\n",
    "#finally column wehre day unemployed is negative turned +ve\n",
    "df['DAYS_UNEMPLOYED']=df['DAYS_UNEMPLOYED']*-1"
   ]
  },
  {
   "cell_type": "code",
   "execution_count": 136,
   "id": "f142205f-600b-41fc-a30b-d4f088dc2388",
   "metadata": {},
   "outputs": [],
   "source": [
    "#both 'DAYS_EMPLOYED' and 'DAYS_UNEMPLOYED' have very large number of outliers.\n",
    "df['DAYS_EMPLOYED'].describe() \n",
    "df['DAYS_UNEMPLOYED'].describe() "
   ]
  },
  {
   "cell_type": "code",
   "execution_count": 195,
   "id": "e078a28b-0822-4986-8766-045ec9cdcae6",
   "metadata": {},
   "outputs": [],
   "source": [
    "backup=copy.deepcopy(df)"
   ]
  },
  {
   "cell_type": "code",
   "execution_count": 196,
   "id": "1e1cec26-3e2d-410e-8c1c-ab9148f5c7bd",
   "metadata": {},
   "outputs": [],
   "source": [
    "'''Normalise continous features.\n",
    "    Some of our continous predictors are already Min-Max normalised so we'll use the same technique\n",
    "'''\n",
    "\n",
    "def min_max_normalisation(column):\n",
    "    '''Calculate min max normalisation of a given continous predictor.'''\n",
    "    min_va=np.min(df[column])\n",
    "    max_va=np.max(df[column])\n",
    "    \n",
    "    range_val=max_va-min_va\n",
    "    \n",
    "    new_col=(df[column]-min_va)/range_val\n",
    "    df[column]=new_col\n",
    "\n",
    "\n",
    "collist=['AMT_INCOME_TOTAL','AMT_CREDIT','AMT_ANNUITY','DAYS_BIRTH','DAYS_EMPLOYED','DAYS_REGISTRATION','DAYS_ID_PUBLISH',\\\n",
    "        'OWN_CAR_AGE','DAYS_LAST_PHONE_CHANGE','DAYS_UNEMPLOYED']\n",
    "for column in collist:\n",
    "    min_max_normalisation(column)"
   ]
  },
  {
   "cell_type": "code",
   "execution_count": 211,
   "id": "ac6f6af2-629a-432d-9231-17847c717b24",
   "metadata": {},
   "outputs": [
    {
     "data": {
      "text/plain": [
       "(307511, 158)"
      ]
     },
     "execution_count": 211,
     "metadata": {},
     "output_type": "execute_result"
    }
   ],
   "source": [
    "df.shape"
   ]
  },
  {
   "cell_type": "code",
   "execution_count": 212,
   "id": "1c4b7c99-63b3-4024-8baf-c8a551f2ea28",
   "metadata": {},
   "outputs": [],
   "source": [
    "backup=copy.deepcopy(df)"
   ]
  },
  {
   "cell_type": "code",
   "execution_count": null,
   "id": "6de14c43-db4e-40ac-980d-bfe467082b0d",
   "metadata": {},
   "outputs": [],
   "source": [
    "def backup(df,Uid):\n",
    "        filepath=f\"C:\\Custom\\Semester 2\\CA683 DADM\\Home Loan Approval System\\Cleaning_{Uid}.csv\"\n",
    "        print(f'Backup file: {filepath}')\n",
    "        df.to_csv(filepath)\n",
    "        print(f'File created.')\n",
    "backup(df,3)"
   ]
  },
  {
   "cell_type": "code",
   "execution_count": null,
   "id": "9a1f7d1d-5c89-460c-b61a-b1fd1bde6236",
   "metadata": {},
   "outputs": [],
   "source": []
  }
 ],
 "metadata": {
  "kernelspec": {
   "display_name": "Python 3 (ipykernel)",
   "language": "python",
   "name": "python3"
  },
  "language_info": {
   "codemirror_mode": {
    "name": "ipython",
    "version": 3
   },
   "file_extension": ".py",
   "mimetype": "text/x-python",
   "name": "python",
   "nbconvert_exporter": "python",
   "pygments_lexer": "ipython3",
   "version": "3.9.13"
  }
 },
 "nbformat": 4,
 "nbformat_minor": 5
}
